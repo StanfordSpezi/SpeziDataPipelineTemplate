{
 "cells": [
  {
   "cell_type": "markdown",
   "id": "1b4070c1-59f7-474e-8ea1-156cd42ef811",
   "metadata": {},
   "source": [
    "## Import modules\n"
   ]
  },
  {
   "cell_type": "code",
   "execution_count": null,
   "id": "3da82a85-6035-4757-a666-e56b5f270513",
   "metadata": {},
   "outputs": [],
   "source": [
    "from spezi_data_pipeline.data_access.firebase_fhir_data_access import FirebaseFHIRAccess, FHIRResourceType\n",
    "from spezi_data_pipeline.data_flattening.fhir_resources_flattener import extract_questionnaire_mappings, flatten_fhir_resources, FHIRDataFrame, QuestionnaireResponseFlattener\n",
    "from spezi_data_pipeline.data_processing.data_processor import FHIRDataProcessor\n",
    "from spezi_data_pipeline.data_processing.questionnaire_processor import calculate_risk_score\n",
    "from spezi_data_pipeline.data_exploration.data_explorer import DataExplorer, visualizer_factory, explore_total_records_number\n",
    "from spezi_data_pipeline.data_export.data_exporter import DataExporter"
   ]
  },
  {
   "cell_type": "markdown",
   "id": "c3623d09-656a-4abe-a4b9-a433ec86a91c",
   "metadata": {},
   "source": [
    "## Define credential files"
   ]
  },
  {
   "cell_type": "code",
   "execution_count": null,
   "id": "e844a4e1-1d9e-4c4a-a6a5-46da5b08f17c",
   "metadata": {
    "tags": []
   },
   "outputs": [],
   "source": [
    "# Define your Firebase project ID\n",
    "project_id = \"spezi-data-pipeline\"  # Replace with your Firebase project ID\n",
    "\n",
    "# Define the service account key file\n",
    "service_account_key_file = \"path_to_service_account_key_file.json\"  # Replace with your service account key file\n",
    "\n",
    "# Define the collection name where your FHIR observations are stored and the input code if filtering is needed\n",
    "collection_name = \"users\"\n",
    "subcollection_name = \"QuestionnaireResponse\"\n",
    "\n",
    "# Define the survey path for creating questionnaire mappings\n",
    "questionnaire_resource_path = \"path_to_the_questionnaire_resource_file.json\""
   ]
  },
  {
   "cell_type": "markdown",
   "id": "dee3e7e7-e273-4367-b36b-6a9148ad898f",
   "metadata": {},
   "source": [
    "## Initialize the FirebaseFHIRAccess class using your Firebase credentials"
   ]
  },
  {
   "cell_type": "code",
   "execution_count": null,
   "id": "62b89662-db30-4976-8ecf-da907b0721ba",
   "metadata": {},
   "outputs": [],
   "source": [
    "# Initialize the FirebaseFHIRAccess class using your Firebase credentials\n",
    "firebase_access = FirebaseFHIRAccess(project_id, service_account_key_file)\n",
    "firebase_access.connect()\n",
    "\n",
    "fhir_questionnaires = firebase_access.fetch_data(collection_name, subcollection_name)\n",
    "\n",
    "flattened_fhir_dataframe = flatten_fhir_resources(fhir_questionnaires, questionnaire_path)"
   ]
  },
  {
   "cell_type": "markdown",
   "id": "a91e9dce-e956-4694-8880-cf4508ccd8ae",
   "metadata": {},
   "source": [
    "## Export data"
   ]
  },
  {
   "cell_type": "code",
   "execution_count": null,
   "id": "d1bd3d6a-1aec-4bdc-9325-7c85efba0ff3",
   "metadata": {},
   "outputs": [],
   "source": [
    "exporter = DataExporter(flattened_fhir_dataframe)\n",
    "exporter.export_to_csv(\"survey_data.csv\") "
   ]
  },
  {
   "cell_type": "markdown",
   "id": "3e3be2f4-a0ae-4b3f-bb30-cded80beb00a",
   "metadata": {},
   "source": [
    "## Calculate risk score"
   ]
  },
  {
   "cell_type": "code",
   "execution_count": null,
   "id": "9dc610de-cfca-4b1f-ab08-34116fc7274d",
   "metadata": {},
   "outputs": [],
   "source": [
    "questionnaire_title = \"questionnaire_title\"\n",
    "flattened_fhir_dataframe_with_score = calculate_risk_score(flattened_fhir_dataframe, questionnaire_title)"
   ]
  },
  {
   "cell_type": "code",
   "execution_count": null,
   "id": "cd43029c-dd32-4a03-9208-d99aa9f071f6",
   "metadata": {},
   "outputs": [],
   "source": [
    "explorer = visualizer_factory(flattened_fhir_dataframe_with_score, questionnaire_title=\"PHQ-9\")\n",
    "# explorer.set_user_ids([\"User1\", \"User2\"])\n",
    "# explorer.set_date_range(\"2023-01-13\", \"2023-02-16\")\n",
    "fig = explorer.create_score_plot(flattened_fhir_dataframe_with_score)"
   ]
  }
 ],
 "metadata": {
  "kernelspec": {
   "display_name": "Python 3 (ipykernel)",
   "language": "python",
   "name": "python3"
  },
  "language_info": {
   "codemirror_mode": {
    "name": "ipython",
    "version": 3
   },
   "file_extension": ".py",
   "mimetype": "text/x-python",
   "name": "python",
   "nbconvert_exporter": "python",
   "pygments_lexer": "ipython3",
   "version": "3.10.9"
  }
 },
 "nbformat": 4,
 "nbformat_minor": 5
}
